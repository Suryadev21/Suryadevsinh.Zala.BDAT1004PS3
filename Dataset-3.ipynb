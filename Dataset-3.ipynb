{
 "cells": [
  {
   "cell_type": "code",
   "execution_count": null,
   "id": "d7988b5f",
   "metadata": {},
   "outputs": [],
   "source": [
    "Question-1\n",
    "\n",
    "import pandas as pd"
   ]
  },
  {
   "cell_type": "code",
   "execution_count": null,
   "id": "d33b2f22",
   "metadata": {},
   "outputs": [],
   "source": [
    "users = pd.read_csv(\"https://raw.githubusercontent.com/justmarkham/DAT8/master/data/u.user\", sep = \"|\")\n",
    "users\n"
   ]
  },
  {
   "cell_type": "code",
   "execution_count": null,
   "id": "41ba8437",
   "metadata": {},
   "outputs": [],
   "source": [
    "users.groupby(\"occupation\").age.mean()"
   ]
  },
  {
   "cell_type": "code",
   "execution_count": null,
   "id": "5748a74f",
   "metadata": {},
   "outputs": [],
   "source": [
    "users.rename(columns={\"sex\":\"gender\"}, inplace=True)"
   ]
  },
  {
   "cell_type": "code",
   "execution_count": null,
   "id": "228d0e69",
   "metadata": {},
   "outputs": [],
   "source": [
    "genders = users.groupby(\"occupation\")[\"gender\"].value_counts(normalize=True)*100\n",
    "genders.head()"
   ]
  },
  {
   "cell_type": "code",
   "execution_count": null,
   "id": "38e21b84",
   "metadata": {},
   "outputs": [],
   "source": [
    "gendersn = pd.DataFrame(genders)\n",
    "gendersn.rename(columns={\"gender\":\"percent\"}, inplace=True)\n",
    "gendersn.head()"
   ]
  },
  {
   "cell_type": "code",
   "execution_count": null,
   "id": "544d5acb",
   "metadata": {},
   "outputs": [],
   "source": [
    "new_gen = pd.DataFrame(gendersn.reset_index(level=[\"occupation\", \"gender\"]))\n",
    "new_gen.head()\n"
   ]
  },
  {
   "cell_type": "code",
   "execution_count": null,
   "id": "d75e420d",
   "metadata": {},
   "outputs": [],
   "source": [
    "males = new_gen[new_gen[\"gender\"] == \"M\"].sort_values(by=\"percent\",ascending=False)\n",
    "males"
   ]
  },
  {
   "cell_type": "code",
   "execution_count": null,
   "id": "85f3ba5c",
   "metadata": {},
   "outputs": [],
   "source": [
    "users.groupby(\"occupation\").age.agg([min, max])"
   ]
  },
  {
   "cell_type": "code",
   "execution_count": null,
   "id": "4a783169",
   "metadata": {},
   "outputs": [],
   "source": [
    "users.groupby([\"occupation\", \"gender\"]).age.mean()"
   ]
  },
  {
   "cell_type": "code",
   "execution_count": null,
   "id": "db75ba13",
   "metadata": {},
   "outputs": [],
   "source": [
    "new_gen"
   ]
  },
  {
   "cell_type": "code",
   "execution_count": null,
   "id": "041f3bc7",
   "metadata": {},
   "outputs": [],
   "source": []
  },
  {
   "cell_type": "code",
   "execution_count": null,
   "id": "620388ab",
   "metadata": {},
   "outputs": [],
   "source": [
    "Question -2"
   ]
  },
  {
   "cell_type": "code",
   "execution_count": null,
   "id": "7379fbaa",
   "metadata": {},
   "outputs": [],
   "source": [
    "import pandas as pd"
   ]
  },
  {
   "cell_type": "code",
   "execution_count": null,
   "id": "68aaae21",
   "metadata": {},
   "outputs": [],
   "source": [
    "euro12 = pd.read_csv('https://raw.githubusercontent.com/guipsamora/pandas_exercises/master/02_Filtering_%26_Sorting/Euro12/Euro_2012_stats_TEAM.csv', sep=',')\n",
    "euro12\n"
   ]
  },
  {
   "cell_type": "code",
   "execution_count": null,
   "id": "c313ad1b",
   "metadata": {},
   "outputs": [],
   "source": [
    "euro12.Goals"
   ]
  },
  {
   "cell_type": "code",
   "execution_count": null,
   "id": "ef1b1932",
   "metadata": {},
   "outputs": [],
   "source": [
    "euro12.shape[0]"
   ]
  },
  {
   "cell_type": "code",
   "execution_count": null,
   "id": "0b139af7",
   "metadata": {},
   "outputs": [],
   "source": [
    "euro12.info()"
   ]
  },
  {
   "cell_type": "code",
   "execution_count": null,
   "id": "078f47aa",
   "metadata": {},
   "outputs": [],
   "source": [
    "# filter only giving the column names\n",
    "\n",
    "discipline = euro12[['Team', 'Yellow Cards', 'Red Cards']]\n",
    "discipline"
   ]
  },
  {
   "cell_type": "code",
   "execution_count": null,
   "id": "78e48ce4",
   "metadata": {},
   "outputs": [],
   "source": [
    "discipline.sort_values(['Red Cards', 'Yellow Cards'], ascending = False)"
   ]
  },
  {
   "cell_type": "code",
   "execution_count": null,
   "id": "7720a03d",
   "metadata": {},
   "outputs": [],
   "source": [
    "round(discipline['Yellow Cards'].mean())"
   ]
  },
  {
   "cell_type": "code",
   "execution_count": null,
   "id": "70060d9b",
   "metadata": {},
   "outputs": [],
   "source": [
    "euro12[euro12.Goals > 6]"
   ]
  },
  {
   "cell_type": "code",
   "execution_count": null,
   "id": "bfbf10ec",
   "metadata": {},
   "outputs": [],
   "source": [
    "euro12[euro12.Team.str.startswith('G')]"
   ]
  },
  {
   "cell_type": "code",
   "execution_count": null,
   "id": "abee2fa3",
   "metadata": {},
   "outputs": [],
   "source": [
    "# use .iloc to slices via the position of the passed integers\n",
    "# : means all, 0:7 means from 0 to 7\n",
    "\n",
    "euro12.iloc[: , 0:7]\n"
   ]
  },
  {
   "cell_type": "code",
   "execution_count": null,
   "id": "52c14bc5",
   "metadata": {},
   "outputs": [],
   "source": [
    "# use negative to exclude the last 3 columns\n",
    "\n",
    "euro12.iloc[: , :-3]\n"
   ]
  },
  {
   "cell_type": "code",
   "execution_count": null,
   "id": "911b6c17",
   "metadata": {},
   "outputs": [],
   "source": [
    "# .loc is another way to slice, using the labels of the columns and indexes\n",
    "\n",
    "euro12.loc[euro12.Team.isin(['England', 'Italy', 'Russia']), ['Team','Shooting Accuracy']]"
   ]
  },
  {
   "cell_type": "code",
   "execution_count": null,
   "id": "a2f1e932",
   "metadata": {},
   "outputs": [],
   "source": []
  },
  {
   "cell_type": "code",
   "execution_count": null,
   "id": "b0c5d167",
   "metadata": {},
   "outputs": [],
   "source": [
    "Question-3"
   ]
  },
  {
   "cell_type": "code",
   "execution_count": null,
   "id": "557dc821",
   "metadata": {},
   "outputs": [],
   "source": [
    "import pandas as pd\n",
    "import numpy as np"
   ]
  },
  {
   "cell_type": "code",
   "execution_count": null,
   "id": "2da08b44",
   "metadata": {},
   "outputs": [],
   "source": [
    "s1 = pd.Series(np.random.randint(1, high=5, size=100, dtype='l'))\n",
    "s2 = pd.Series(np.random.randint(1, high=4, size=100, dtype='l'))\n",
    "s3 = pd.Series(np.random.randint(10000, high=30001, size=100, dtype='l'))\n",
    "\n",
    "print(s1, s2, s3)\n"
   ]
  },
  {
   "cell_type": "code",
   "execution_count": null,
   "id": "25cc56fc",
   "metadata": {},
   "outputs": [],
   "source": [
    "housemkt = pd.concat([s1, s2, s3], axis=1)\n",
    "housemkt.head()\n"
   ]
  },
  {
   "cell_type": "code",
   "execution_count": null,
   "id": "11114dce",
   "metadata": {},
   "outputs": [],
   "source": [
    "housemkt.rename(columns = {0: 'bedrs', 1: 'bathrs', 2: 'price_sqr_meter'}, inplace=True)\n",
    "housemkt.head()"
   ]
  },
  {
   "cell_type": "code",
   "execution_count": null,
   "id": "e07706fc",
   "metadata": {},
   "outputs": [],
   "source": [
    "# join concat the values\n",
    "bigcolumn = pd.concat([s1, s2, s3], axis=0)\n",
    "\n",
    "# it is still a Series, so we need to transform it to a DataFrame\n",
    "bigcolumn = bigcolumn.to_frame()\n",
    "print(type(bigcolumn))\n",
    "\n",
    "bigcolumn\n"
   ]
  },
  {
   "cell_type": "code",
   "execution_count": null,
   "id": "773fefd0",
   "metadata": {},
   "outputs": [],
   "source": [
    "# no the index are kept but the length of the DataFrame is 300\n",
    "len(bigcolumn)\n"
   ]
  },
  {
   "cell_type": "code",
   "execution_count": null,
   "id": "6aff111e",
   "metadata": {},
   "outputs": [],
   "source": [
    "bigcolumn.reset_index(drop=True, inplace=True)\n",
    "bigcolumn\n"
   ]
  },
  {
   "cell_type": "code",
   "execution_count": null,
   "id": "750d1451",
   "metadata": {},
   "outputs": [],
   "source": []
  },
  {
   "cell_type": "code",
   "execution_count": null,
   "id": "9e4045da",
   "metadata": {},
   "outputs": [],
   "source": [
    "Question-4"
   ]
  },
  {
   "cell_type": "code",
   "execution_count": null,
   "id": "8c022f3c",
   "metadata": {},
   "outputs": [],
   "source": [
    "import pandas as pd\n",
    "import datetime"
   ]
  },
  {
   "cell_type": "code",
   "execution_count": null,
   "id": "42ef93af",
   "metadata": {},
   "outputs": [],
   "source": [
    "# parse_dates gets 0, 1, 2 columns and parses them as the index\n",
    "data_url = 'https://raw.githubusercontent.com/guipsamora/pandas_exercises/master/06_Stats/Wind_Stats/wind.data'\n",
    "data = pd.read_csv(data_url, sep = \"\\s+\", parse_dates = [[0,1,2]]) \n",
    "data.head()\n"
   ]
  },
  {
   "cell_type": "code",
   "execution_count": null,
   "id": "ea8f53b5",
   "metadata": {},
   "outputs": [],
   "source": [
    "# The problem is that the dates are 2061 and so on...\n",
    "\n",
    "# function that uses datetime\n",
    "def fix_century(x):\n",
    "  year = x.year - 100 if x.year > 1989 else x.year\n",
    "  return datetime.date(year, x.month, x.day)\n",
    "\n",
    "# apply the function fix_century on the column and replace the values to the right ones\n",
    "data['Yr_Mo_Dy'] = data['Yr_Mo_Dy'].apply(fix_century)\n",
    "\n",
    "# data.info()\n",
    "data.head()"
   ]
  },
  {
   "cell_type": "code",
   "execution_count": null,
   "id": "958e87d8",
   "metadata": {},
   "outputs": [],
   "source": [
    "# transform Yr_Mo_Dy it to date type datetime64\n",
    "data[\"Yr_Mo_Dy\"] = pd.to_datetime(data[\"Yr_Mo_Dy\"])\n",
    "\n",
    "# set 'Yr_Mo_Dy' as the index\n",
    "data = data.set_index('Yr_Mo_Dy')\n",
    "\n",
    "data.head()\n",
    "# data.info()"
   ]
  },
  {
   "cell_type": "code",
   "execution_count": null,
   "id": "5fe42e25",
   "metadata": {},
   "outputs": [],
   "source": [
    "# \"Number of non-missing values for each location: \"\n",
    "data.isnull().sum()"
   ]
  },
  {
   "cell_type": "code",
   "execution_count": null,
   "id": "81d14a03",
   "metadata": {},
   "outputs": [],
   "source": [
    "#number of columns minus the number of missing values for each location\n",
    "data.shape[0] - data.isnull().sum()\n",
    "\n",
    "#or\n",
    "\n",
    "data.notnull().sum()"
   ]
  },
  {
   "cell_type": "code",
   "execution_count": null,
   "id": "f9e8eff5",
   "metadata": {},
   "outputs": [],
   "source": [
    "data.sum().sum() / data.notna().sum().sum()"
   ]
  },
  {
   "cell_type": "code",
   "execution_count": null,
   "id": "604dcf50",
   "metadata": {},
   "outputs": [],
   "source": [
    "data.describe(percentiles=[])\n"
   ]
  },
  {
   "cell_type": "code",
   "execution_count": null,
   "id": "5afaaf71",
   "metadata": {},
   "outputs": [],
   "source": [
    "# create the dataframe\n",
    "day_stats = pd.DataFrame()\n",
    "\n",
    "# this time we determine axis equals to one so it gets each row.\n",
    "day_stats['min'] = data.min(axis = 1) # min\n",
    "day_stats['max'] = data.max(axis = 1) # max \n",
    "day_stats['mean'] = data.mean(axis = 1) # mean\n",
    "day_stats['std'] = data.std(axis = 1) # standard deviations\n",
    "\n",
    "day_stats.head()\n"
   ]
  },
  {
   "cell_type": "code",
   "execution_count": null,
   "id": "1a754cd8",
   "metadata": {},
   "outputs": [],
   "source": [
    "data.loc[data.index.month == 1].mean()"
   ]
  },
  {
   "cell_type": "code",
   "execution_count": null,
   "id": "1a98c61f",
   "metadata": {},
   "outputs": [],
   "source": [
    "data.groupby(data.index.to_period('A')).mean()"
   ]
  },
  {
   "cell_type": "code",
   "execution_count": null,
   "id": "f8355aea",
   "metadata": {},
   "outputs": [],
   "source": [
    "data.groupby(data.index.to_period('M')).mean()"
   ]
  },
  {
   "cell_type": "code",
   "execution_count": null,
   "id": "e3c4650d",
   "metadata": {},
   "outputs": [],
   "source": [
    "data.groupby(data.index.to_period('W')).mean()"
   ]
  },
  {
   "cell_type": "code",
   "execution_count": null,
   "id": "03794d99",
   "metadata": {},
   "outputs": [],
   "source": [
    "# resample data to 'W' week and use the functions\n",
    "weekly = data.resample('W').agg(['min','max','mean','std'])\n",
    "\n",
    "# slice it for the first 52 weeks and locations\n",
    "weekly.loc[weekly.index[1:53], \"RPT\":\"MAL\"] .head(10)"
   ]
  },
  {
   "cell_type": "code",
   "execution_count": null,
   "id": "1258ccb5",
   "metadata": {},
   "outputs": [],
   "source": []
  },
  {
   "cell_type": "code",
   "execution_count": null,
   "id": "d0295537",
   "metadata": {},
   "outputs": [],
   "source": [
    "Question-5"
   ]
  },
  {
   "cell_type": "code",
   "execution_count": null,
   "id": "a0a97de7",
   "metadata": {},
   "outputs": [],
   "source": [
    "import pandas as pd"
   ]
  },
  {
   "cell_type": "code",
   "execution_count": null,
   "id": "a49e70d8",
   "metadata": {},
   "outputs": [],
   "source": [
    "chipo = pd.read_csv('https://raw.githubusercontent.com/justmarkham/DAT8/master/data/chipotle.tsv', sep='\\t')"
   ]
  },
  {
   "cell_type": "code",
   "execution_count": null,
   "id": "080170a3",
   "metadata": {},
   "outputs": [],
   "source": [
    "chipo.head(10)"
   ]
  },
  {
   "cell_type": "code",
   "execution_count": null,
   "id": "67aefcc3",
   "metadata": {},
   "outputs": [],
   "source": [
    "chipo.shape[0]"
   ]
  },
  {
   "cell_type": "code",
   "execution_count": null,
   "id": "8cb920b1",
   "metadata": {},
   "outputs": [],
   "source": [
    "chipo.info()"
   ]
  },
  {
   "cell_type": "code",
   "execution_count": null,
   "id": "0eb6926c",
   "metadata": {},
   "outputs": [],
   "source": [
    "chipo.shape[1]"
   ]
  },
  {
   "cell_type": "code",
   "execution_count": null,
   "id": "298bf647",
   "metadata": {},
   "outputs": [],
   "source": [
    "chipo.columns.values"
   ]
  },
  {
   "cell_type": "code",
   "execution_count": null,
   "id": "97ab97f4",
   "metadata": {},
   "outputs": [],
   "source": [
    "chipo.index"
   ]
  },
  {
   "cell_type": "code",
   "execution_count": null,
   "id": "c8c3a378",
   "metadata": {},
   "outputs": [],
   "source": [
    "chipo.groupby(['item_name']).quantity.sum().sort_values(ascending = False).index[0]"
   ]
  },
  {
   "cell_type": "code",
   "execution_count": null,
   "id": "6fc59557",
   "metadata": {},
   "outputs": [],
   "source": [
    "chipo.groupby('item_name').sum().sort_values(['quantity'], ascending=False).head(1)"
   ]
  },
  {
   "cell_type": "code",
   "execution_count": null,
   "id": "5d089b7d",
   "metadata": {},
   "outputs": [],
   "source": [
    "chipo.groupby(['item_name']).quantity.sum().sort_values(ascending = False).values[0]"
   ]
  },
  {
   "cell_type": "code",
   "execution_count": null,
   "id": "ef32597c",
   "metadata": {},
   "outputs": [],
   "source": [
    "chipo.groupby('item_name').sum().sort_values(['quantity'], ascending=False).head(1)"
   ]
  },
  {
   "cell_type": "code",
   "execution_count": null,
   "id": "f94cbd49",
   "metadata": {},
   "outputs": [],
   "source": [
    "chipo.groupby(['choice_description']).quantity.sum().sort_values(ascending = False).index[0]"
   ]
  },
  {
   "cell_type": "code",
   "execution_count": null,
   "id": "6a89458c",
   "metadata": {},
   "outputs": [],
   "source": [
    "chipo.groupby('choice_description').sum().sort_values(['quantity'], ascending=False).head(1)"
   ]
  },
  {
   "cell_type": "code",
   "execution_count": null,
   "id": "6c171040",
   "metadata": {},
   "outputs": [],
   "source": [
    "chipo.quantity.sum()"
   ]
  },
  {
   "cell_type": "code",
   "execution_count": null,
   "id": "93522494",
   "metadata": {},
   "outputs": [],
   "source": [
    "chipo.dtypes.item_price"
   ]
  },
  {
   "cell_type": "code",
   "execution_count": null,
   "id": "43968b85",
   "metadata": {},
   "outputs": [],
   "source": [
    "chipo.item_price = chipo.item_price.apply(lambda x: float(x[1:]))"
   ]
  },
  {
   "cell_type": "code",
   "execution_count": null,
   "id": "095d0bb2",
   "metadata": {},
   "outputs": [],
   "source": [
    "chipo.item_price.dtypes"
   ]
  },
  {
   "cell_type": "code",
   "execution_count": null,
   "id": "504d2e17",
   "metadata": {},
   "outputs": [],
   "source": [
    "chipo['revenue'] = chipo['quantity']*chipo.item_price\n",
    "total_revenue = chipo.revenue.sum()\n",
    "total_revenue"
   ]
  },
  {
   "cell_type": "code",
   "execution_count": null,
   "id": "d1ae730f",
   "metadata": {},
   "outputs": [],
   "source": [
    "total_order = chipo.order_id.nunique()\n",
    "total_order"
   ]
  },
  {
   "cell_type": "code",
   "execution_count": null,
   "id": "9f4e29c9",
   "metadata": {},
   "outputs": [],
   "source": [
    "chipo.order_id.value_counts().count()"
   ]
  },
  {
   "cell_type": "code",
   "execution_count": null,
   "id": "1fa2cf06",
   "metadata": {},
   "outputs": [],
   "source": [
    "total_revenue / total_order"
   ]
  },
  {
   "cell_type": "code",
   "execution_count": null,
   "id": "7782b372",
   "metadata": {},
   "outputs": [],
   "source": [
    "# Solution 1\n",
    "#chipo['revenue'] = chipo['quantity'] * chipo['item_price']\n",
    "order_grouped = chipo.groupby(by=['order_id']).sum()\n",
    "order_grouped.mean()['revenue']"
   ]
  },
  {
   "cell_type": "code",
   "execution_count": null,
   "id": "1c50c491",
   "metadata": {},
   "outputs": [],
   "source": [
    "# Solution 2\n",
    "chipo.groupby(by=['order_id']).sum().mean()['revenue']"
   ]
  },
  {
   "cell_type": "code",
   "execution_count": null,
   "id": "4753f196",
   "metadata": {},
   "outputs": [],
   "source": [
    "chipo.item_name.nunique()"
   ]
  },
  {
   "cell_type": "code",
   "execution_count": null,
   "id": "35e506e2",
   "metadata": {},
   "outputs": [],
   "source": [
    "chipo.item_name.value_counts().count()"
   ]
  },
  {
   "cell_type": "code",
   "execution_count": null,
   "id": "cd5968b8",
   "metadata": {},
   "outputs": [],
   "source": []
  },
  {
   "cell_type": "code",
   "execution_count": null,
   "id": "0bd1b51b",
   "metadata": {},
   "outputs": [],
   "source": [
    "Question-6"
   ]
  },
  {
   "cell_type": "code",
   "execution_count": null,
   "id": "2c53f916",
   "metadata": {},
   "outputs": [],
   "source": [
    "import pandas as pd\n",
    "\n",
    "us_marriage_divorce_data = pd.read_csv('data/us-marriages-divorces-1867-2014.csv')\n",
    "years = us_marriage_divorce_data['Year'].values\n",
    "marriages_per_capita = us_marriage_divorce_data['Marriages_per_1000'].values\n",
    "divorces_per_capita = us_marriage_divorce_data['Divorces_per_1000'].values"
   ]
  },
  {
   "cell_type": "code",
   "execution_count": null,
   "id": "939e448e",
   "metadata": {},
   "outputs": [],
   "source": []
  },
  {
   "cell_type": "code",
   "execution_count": null,
   "id": "dfc3a455",
   "metadata": {},
   "outputs": [],
   "source": [
    "Question-7"
   ]
  },
  {
   "cell_type": "code",
   "execution_count": null,
   "id": "0750ffaa",
   "metadata": {},
   "outputs": [],
   "source": [
    "import pandas as pd\n",
    "\n",
    "us_marriage_divorce_data = pd.read_csv('data/us-marriages-divorces-1867-2014.csv')\n",
    "us_marriage_divorce_data = us_marriage_divorce_data[\n",
    "    us_marriage_divorce_data['Year'].apply(lambda x: x in [1900, 1950, 2000])]\n",
    "\n",
    "years = us_marriage_divorce_data['Year'].values\n",
    "marriages_per_capita = us_marriage_divorce_data['Marriages_per_1000'].values\n",
    "divorces_per_capita = us_marriage_divorce_data['Divorces_per_1000'].values"
   ]
  },
  {
   "cell_type": "code",
   "execution_count": null,
   "id": "e2d4211e",
   "metadata": {},
   "outputs": [],
   "source": []
  },
  {
   "cell_type": "code",
   "execution_count": null,
   "id": "0462dae4",
   "metadata": {},
   "outputs": [],
   "source": [
    "Question-8"
   ]
  },
  {
   "cell_type": "code",
   "execution_count": null,
   "id": "dcfe8f79",
   "metadata": {},
   "outputs": [],
   "source": [
    "import pandas as pd\n",
    "\n",
    "hollywood_actor_kills = pd.read_csv('data/actor_kill_counts.csv')\n",
    "hollywood_actor_kills\n"
   ]
  },
  {
   "cell_type": "code",
   "execution_count": null,
   "id": "96f0c67b",
   "metadata": {},
   "outputs": [],
   "source": [
    "import pandas as pd\n",
    "\n",
    "hollywood_actor_kills = pd.read_csv('data/actor_kill_counts.csv')\n",
    "actor_names = hollywood_actor_kills['Actor'].values\n",
    "kill_counts = hollywood_actor_kills['Count'].values"
   ]
  },
  {
   "cell_type": "code",
   "execution_count": null,
   "id": "26dd9af0",
   "metadata": {},
   "outputs": [],
   "source": []
  },
  {
   "cell_type": "code",
   "execution_count": null,
   "id": "d130c358",
   "metadata": {},
   "outputs": [],
   "source": [
    "Question-9"
   ]
  },
  {
   "cell_type": "code",
   "execution_count": null,
   "id": "49110f95",
   "metadata": {},
   "outputs": [],
   "source": [
    "import pandas as pd\n",
    "\n",
    "roman_emperors = pd.read_csv('data/roman-emperor-reigns.csv')\n",
    "assassinated_emperors = roman_emperors[\n",
    "    roman_emperors['Cause_of_Death'].apply(lambda x: 'assassinated' in x.lower())]\n",
    "\n",
    "number_assassinated = len(assassinated_emperors)\n",
    "other_deaths = len(roman_emperors) - number_assassinated"
   ]
  },
  {
   "cell_type": "code",
   "execution_count": null,
   "id": "91875483",
   "metadata": {},
   "outputs": [],
   "source": []
  },
  {
   "cell_type": "code",
   "execution_count": null,
   "id": "ae46c9c4",
   "metadata": {},
   "outputs": [],
   "source": [
    "Question-10"
   ]
  },
  {
   "cell_type": "code",
   "execution_count": null,
   "id": "69eff4ef",
   "metadata": {},
   "outputs": [],
   "source": [
    "import pandas as pd\n",
    "\n",
    "arcade_revenue_cs_doctorates = pd.read_csv('data/arcade-revenue-vs-cs-doctorates.csv')\n",
    "arcade_revenue = arcade_revenue_cs_doctorates['Total Arcade Revenue (billions)'].values\n",
    "cs_doctorates_awarded = arcade_revenue_cs_doctorates[\n",
    "    'Computer Science Doctorates Awarded (US)'].values\n"
   ]
  }
 ],
 "metadata": {
  "kernelspec": {
   "display_name": "Python 3 (ipykernel)",
   "language": "python",
   "name": "python3"
  },
  "language_info": {
   "codemirror_mode": {
    "name": "ipython",
    "version": 3
   },
   "file_extension": ".py",
   "mimetype": "text/x-python",
   "name": "python",
   "nbconvert_exporter": "python",
   "pygments_lexer": "ipython3",
   "version": "3.11.0"
  }
 },
 "nbformat": 4,
 "nbformat_minor": 5
}
